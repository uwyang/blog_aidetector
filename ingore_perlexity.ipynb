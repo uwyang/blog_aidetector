{
 "cells": [
  {
   "cell_type": "code",
   "execution_count": 1,
   "metadata": {},
   "outputs": [],
   "source": [
    "# sample code for calculating perplexity. "
   ]
  },
  {
   "cell_type": "code",
   "execution_count": null,
   "metadata": {},
   "outputs": [
    {
     "ename": "SyntaxError",
     "evalue": "invalid syntax (1115154217.py, line 24)",
     "output_type": "error",
     "traceback": [
      "\u001b[0;36m  Cell \u001b[0;32mIn[71], line 24\u001b[0;36m\u001b[0m\n\u001b[0;31m    text = \"The Bell Jar is the only novel written by the American writer and poet Sylvia Plath. Originally published under the pseudonym \"Victoria Lucas\" in 1963, the novel is supposedly semi-autobiographical with the names of places and people changed. The book is often regarded as a roman à clef because the protagonist's descent into mental illness parallels Plath's experiences with what may have been clinical depression or bipolar II disorder. Plath died by suicide a month after its first United Kingdom publication.\"\u001b[0m\n\u001b[0m                                                                                                                                           ^\u001b[0m\n\u001b[0;31mSyntaxError\u001b[0m\u001b[0;31m:\u001b[0m invalid syntax\n"
     ]
    }
   ],
   "source": [
    "from transformers import AutoTokenizer, AutoModelForCausalLM\n",
    "import torch\n",
    "import math\n",
    "\n",
    "def calculate_perplexity(text, model_name=\"distilgpt2\"):\n",
    "    # Load the tokenizer and model\n",
    "    tokenizer = AutoTokenizer.from_pretrained(model_name)\n",
    "    model = AutoModelForCausalLM.from_pretrained(model_name)\n",
    "\n",
    "    # Tokenize the input text\n",
    "    inputs = tokenizer(text, return_tensors=\"pt\")\n",
    "    \n",
    "    # Disable gradient calculation for faster inference\n",
    "    with torch.no_grad():\n",
    "        # Get the model's output logits and calculate the log probabilities\n",
    "        outputs = model(**inputs, labels=inputs[\"input_ids\"])\n",
    "        nll = outputs.loss  # This is the average NLL or Cross-Entropy Loss\n",
    "\n",
    "    # Calculate perplexity\n",
    "    perplexity = torch.exp(nll)\n",
    "    return nll, perplexity.item()\n",
    "\n",
    "# Example text\n",
    "text = \"\"\"The Bell Jar is the only novel written by the American writer and poet Sylvia Plath. Originally published under the pseudonym \"Victoria Lucas\" in 1963, the novel is supposedly semi-autobiographical with the names of places and people changed. The book is often regarded as a roman à clef because the protagonist's descent into mental illness parallels Plath's experiences with what may have been clinical depression or bipolar II disorder. Plath died by suicide a month after its first United Kingdom publication.\"\"\"\n",
    "nll, perplexity = calculate_perplexity(text)\n",
    "print(f\"Perplexity: {perplexity}\")\n"
   ]
  },
  {
   "cell_type": "code",
   "execution_count": 70,
   "metadata": {},
   "outputs": [
    {
     "data": {
      "text/plain": [
       "tensor(6.3455)"
      ]
     },
     "execution_count": 70,
     "metadata": {},
     "output_type": "execute_result"
    }
   ],
   "source": [
    "nll"
   ]
  },
  {
   "cell_type": "code",
   "execution_count": 15,
   "metadata": {},
   "outputs": [
    {
     "name": "stdout",
     "output_type": "stream",
     "text": [
      "Top 3 Predictions:\n",
      "1: ' and' with probability 0.1944\n",
      "2: '.' with probability 0.1198\n",
      "3: ',' with probability 0.1034\n"
     ]
    }
   ],
   "source": [
    "\n",
    "import torch.nn.functional as F\n",
    "\n",
    "text = 'the quick brown fox jumps over the lazy frog'\n",
    "\n",
    "model_name=\"distilgpt2\"\n",
    "# Load the tokenizer and model\n",
    "tokenizer = AutoTokenizer.from_pretrained(model_name)\n",
    "model = AutoModelForCausalLM.from_pretrained(model_name)\n",
    "\n",
    "# Tokenize the input text\n",
    "inputs = tokenizer(text, return_tensors=\"pt\")\n",
    "\n",
    "# Disable gradient calculation for faster inference\n",
    "with torch.no_grad():\n",
    "    # Get the model's output logits and calculate the log probabilities\n",
    "    # label shifting by 1 is done internally by transformers library. \n",
    "    outputs = model(**inputs, labels=inputs[\"input_ids\"])\n",
    "    log_likelihood = outputs.loss.item() * inputs['input_ids'].size(1)\n",
    "\n",
    "    # Get logits for the last token (next word prediction)\n",
    "    last_token_logits = outputs.logits[0, -1, :]  # Shape: (vocab_size,)\n",
    "\n",
    "    # Calculate probabilities\n",
    "    probs = F.softmax(last_token_logits, dim=-1)\n",
    "\n",
    "    # Get the top 3 predictions and their probabilities\n",
    "    top_k = 3\n",
    "    top_k_probs, top_k_indices = torch.topk(probs, top_k)\n",
    "    top_k_tokens = [tokenizer.decode([idx]) for idx in top_k_indices]\n",
    "    \n",
    "    # Print top 3 predictions and their probabilities\n",
    "    print(\"Top 3 Predictions:\")\n",
    "    for i in range(top_k):\n",
    "        print(f\"{i+1}: '{top_k_tokens[i]}' with probability {top_k_probs[i].item():.4f}\")\n",
    "    \n",
    "\n",
    "# Calculate perplexity\n",
    "perplexity = math.exp(log_likelihood / inputs['input_ids'].size(1))"
   ]
  },
  {
   "cell_type": "code",
   "execution_count": 24,
   "metadata": {},
   "outputs": [
    {
     "name": "stdout",
     "output_type": "stream",
     "text": [
      "Initial text: 'The quick brown fox'\n",
      "\n",
      "Step 1 (current token: 'The')\n",
      "Next word predictions:\n",
      "  1: ' The' with probability 0.0443\n",
      "  2: ' A' with probability 0.0163\n",
      "  3: 'The' with probability 0.0124\n",
      "Actual next word: ' quick' with probability 0.0000\n",
      "\n",
      "Step 2 (current token: 'Ġquick')\n",
      "Next word predictions:\n",
      "  1: ' and' with probability 0.0400\n",
      "  2: '-' with probability 0.0367\n",
      "  3: 'ie' with probability 0.0273\n",
      "Actual next word: ' brown' with probability 0.0001\n",
      "\n",
      "Step 3 (current token: 'Ġbrown')\n",
      "Next word predictions:\n",
      "  1: 'ie' with probability 0.4196\n",
      "  2: 'ies' with probability 0.1828\n",
      "  3: ' rice' with probability 0.0157\n",
      "Actual next word: ' fox' with probability 0.0003\n",
      "\n"
     ]
    }
   ],
   "source": [
    "from transformers import AutoTokenizer, AutoModelForCausalLM\n",
    "import torch\n",
    "import torch.nn.functional as F\n",
    "\n",
    "def get_sequential_predictions_with_actual_prob(text, model_name=\"distilgpt2\"):\n",
    "    # Load model and tokenizer\n",
    "    tokenizer = AutoTokenizer.from_pretrained(model_name)\n",
    "    model = AutoModelForCausalLM.from_pretrained(model_name)\n",
    "    \n",
    "    # Initial tokenization of the input text\n",
    "    tokens = tokenizer.tokenize(text)\n",
    "    \n",
    "    print(f\"Initial text: '{text}'\\n\")\n",
    "    \n",
    "    # Step through each token in the initial text (except the last token since it has no \"next\" token)\n",
    "    for i in range(len(tokens) - 1):\n",
    "        # Reconstruct the sequence up to the current token\n",
    "        partial_text = tokenizer.convert_tokens_to_string(tokens[:i+1])\n",
    "        input_ids = tokenizer(partial_text, return_tensors=\"pt\")[\"input_ids\"]\n",
    "\n",
    "        # Get model outputs for the current input\n",
    "        with torch.no_grad():\n",
    "            outputs = model(input_ids=input_ids)\n",
    "\n",
    "        # Get logits for the last token (next word prediction)\n",
    "        last_token_logits = outputs.logits[0, -1, :]  # Shape: (vocab_size,)\n",
    "\n",
    "        # Calculate probabilities\n",
    "        probs = F.softmax(last_token_logits, dim=-1)\n",
    "\n",
    "        # Get the top 3 predictions and their probabilities\n",
    "        top_k = 3\n",
    "        top_k_probs, top_k_indices = torch.topk(probs, top_k)\n",
    "        top_k_tokens = [tokenizer.decode([idx]) for idx in top_k_indices]\n",
    "\n",
    "        # The actual next token\n",
    "        actual_next_token_id = tokenizer.convert_tokens_to_ids(tokens[i+1])\n",
    "        actual_next_token_prob = probs[actual_next_token_id].item()\n",
    "        actual_next_token = tokenizer.decode([actual_next_token_id])\n",
    "\n",
    "        # Print current token and predictions\n",
    "        current_token = tokens[i]\n",
    "        print(f\"Step {i+1} (current token: '{current_token}')\")\n",
    "        print(\"Next word predictions:\")\n",
    "        for j in range(top_k):\n",
    "            print(f\"  {j+1}: '{top_k_tokens[j]}' with probability {top_k_probs[j].item():.4f}\")\n",
    "        \n",
    "        print(f\"Actual next word: '{actual_next_token}' with probability {actual_next_token_prob:.4f}\\n\")\n",
    "\n",
    "# Example usage\n",
    "text = \"The quick brown fox\"\n",
    "get_sequential_predictions_with_actual_prob(text)\n"
   ]
  },
  {
   "cell_type": "code",
   "execution_count": 10,
   "metadata": {},
   "outputs": [
    {
     "data": {
      "text/plain": [
       "9"
      ]
     },
     "execution_count": 10,
     "metadata": {},
     "output_type": "execute_result"
    }
   ],
   "source": [
    "inputs['input_ids'].size(1)"
   ]
  },
  {
   "cell_type": "code",
   "execution_count": null,
   "metadata": {},
   "outputs": [
    {
     "name": "stdout",
     "output_type": "stream",
     "text": [
      "KMeans clustering with 9 clusters completed and labels saved to 'kmean_9' column.\n",
      "kmean_9    0    1    2    3    4     5     6    7    8\n",
      "label                                                 \n",
      "0         67   69  229   65  228    51  1115   65  825\n",
      "1        421  673  474  711  226  1066    71  832   74\n"
     ]
    },
    {
     "name": "stderr",
     "output_type": "stream",
     "text": [
      "/tmp/ipykernel_161048/660090091.py:6: SettingWithCopyWarning: \n",
      "A value is trying to be set on a copy of a slice from a DataFrame.\n",
      "Try using .loc[row_indexer,col_indexer] = value instead\n",
      "\n",
      "See the caveats in the documentation: https://pandas.pydata.org/pandas-docs/stable/user_guide/indexing.html#returning-a-view-versus-a-copy\n",
      "  currdf['kmean_9'] = kmeans_9_labels\n"
     ]
    }
   ],
   "source": [
    "# Perform KMeans clustering with 9 clusters\n",
    "kmeans_9 = KMeans(n_clusters=9, random_state=42)\n",
    "kmeans_9_labels = kmeans_9.fit_predict(np.array(currdf['reduced_embedding_30_elect'].tolist()))\n",
    "\n",
    "# Save the labels to a new column 'kmean_9'\n",
    "currdf['kmean_9'] = kmeans_9_labels\n",
    "\n",
    "print(\"KMeans clustering with 9 clusters completed and labels saved to 'kmean_9' column.\")\n",
    "\n",
    "occurrence_matrix = pd.crosstab(currdf['label'], currdf['kmean_9'])\n",
    "print(occurrence_matrix)"
   ]
  },
  {
   "cell_type": "code",
   "execution_count": 26,
   "metadata": {},
   "outputs": [
    {
     "name": "stdout",
     "output_type": "stream",
     "text": [
      "Initial text: 'The quick brown fox jumps over the lazy dog and the fat frog. '\n",
      "\n",
      "Step 1 (current token: 'The')\n",
      "Next word predictions:\n",
      "  1: ' The' with probability 0.0443\n",
      "  2: ' A' with probability 0.0163\n",
      "  3: 'The' with probability 0.0124\n",
      "Actual next word: ' quick' with probability 0.0000\n",
      "\n",
      "Step 2 (current token: 'Ġquick')\n",
      "Next word predictions:\n",
      "  1: ' and' with probability 0.0400\n",
      "  2: '-' with probability 0.0367\n",
      "  3: 'ie' with probability 0.0273\n",
      "Actual next word: ' brown' with probability 0.0001\n",
      "\n",
      "Step 3 (current token: 'Ġbrown')\n",
      "Next word predictions:\n",
      "  1: 'ie' with probability 0.4196\n",
      "  2: 'ies' with probability 0.1828\n",
      "  3: ' rice' with probability 0.0157\n",
      "Actual next word: ' fox' with probability 0.0003\n",
      "\n",
      "Step 4 (current token: 'Ġfox')\n",
      "Next word predictions:\n",
      "  1: 'es' with probability 0.2303\n",
      "  2: ' is' with probability 0.0549\n",
      "  3: ',' with probability 0.0270\n",
      "Actual next word: ' jumps' with probability 0.0010\n",
      "\n",
      "Step 5 (current token: 'Ġjumps')\n",
      "Next word predictions:\n",
      "  1: ' out' with probability 0.1422\n",
      "  2: ' into' with probability 0.0947\n",
      "  3: ' off' with probability 0.0775\n",
      "Actual next word: ' over' with probability 0.0748\n",
      "\n",
      "Step 6 (current token: 'Ġover')\n",
      "Next word predictions:\n",
      "  1: ' the' with probability 0.2726\n",
      "  2: ' him' with probability 0.1052\n",
      "  3: ' a' with probability 0.0715\n",
      "Actual next word: ' the' with probability 0.2726\n",
      "\n",
      "Step 7 (current token: 'Ġthe')\n",
      "Next word predictions:\n",
      "  1: ' fence' with probability 0.0385\n",
      "  2: ' top' with probability 0.0241\n",
      "  3: ' ground' with probability 0.0230\n",
      "Actual next word: ' lazy' with probability 0.0002\n",
      "\n",
      "Step 8 (current token: 'Ġlazy')\n",
      "Next word predictions:\n",
      "  1: ' fox' with probability 0.0722\n",
      "  2: ',' with probability 0.0667\n",
      "  3: ' and' with probability 0.0314\n",
      "Actual next word: ' dog' with probability 0.0129\n",
      "\n",
      "Step 9 (current token: 'Ġdog')\n",
      "Next word predictions:\n",
      "  1: ' and' with probability 0.1843\n",
      "  2: ',' with probability 0.1192\n",
      "  3: '.' with probability 0.1141\n",
      "Actual next word: ' and' with probability 0.1843\n",
      "\n",
      "Step 10 (current token: 'Ġand')\n",
      "Next word predictions:\n",
      "  1: ' the' with probability 0.0506\n",
      "  2: ' then' with probability 0.0343\n",
      "  3: ' he' with probability 0.0227\n",
      "Actual next word: ' the' with probability 0.0506\n",
      "\n",
      "Step 11 (current token: 'Ġthe')\n",
      "Next word predictions:\n",
      "  1: ' dog' with probability 0.0436\n",
      "  2: ' fox' with probability 0.0175\n",
      "  3: ' other' with probability 0.0151\n",
      "Actual next word: ' fat' with probability 0.0012\n",
      "\n",
      "Step 12 (current token: 'Ġfat')\n",
      "Next word predictions:\n",
      "  1: ' dog' with probability 0.1722\n",
      "  2: ' cat' with probability 0.0692\n",
      "  3: ' fox' with probability 0.0560\n",
      "Actual next word: ' frog' with probability 0.0002\n",
      "\n",
      "Step 13 (current token: 'Ġfrog')\n",
      "Next word predictions:\n",
      "  1: '.' with probability 0.1003\n",
      "  2: ' jumps' with probability 0.0599\n",
      "  3: ' is' with probability 0.0351\n",
      "Actual next word: '.' with probability 0.1003\n",
      "\n",
      "Step 14 (current token: '.')\n",
      "Next word predictions:\n",
      "  1: '\n",
      "' with probability 0.2578\n",
      "  2: ' The' with probability 0.1072\n",
      "  3: ' He' with probability 0.0505\n",
      "Actual next word: ' ' with probability 0.0010\n",
      "\n"
     ]
    }
   ],
   "source": [
    "from transformers import AutoTokenizer, AutoModelForCausalLM\n",
    "import torch\n",
    "import torch.nn.functional as F\n",
    "\n",
    "def get_sequential_predictions_with_actual_prob(text, model_name=\"distilgpt2\"):\n",
    "    # Load model and tokenizer\n",
    "    tokenizer = AutoTokenizer.from_pretrained(model_name)\n",
    "    model = AutoModelForCausalLM.from_pretrained(model_name)\n",
    "    \n",
    "    # Initial tokenization of the input text\n",
    "    tokens = tokenizer.tokenize(text)\n",
    "    \n",
    "    print(f\"Initial text: '{text}'\\n\")\n",
    "    \n",
    "    # Step through each token in the initial text (except the last token since it has no \"next\" token)\n",
    "    for i in range(len(tokens) - 1):\n",
    "        # Reconstruct the sequence up to the current token\n",
    "        partial_text = tokenizer.convert_tokens_to_string(tokens[:i+1])\n",
    "        input_ids = tokenizer(partial_text, return_tensors=\"pt\")[\"input_ids\"]\n",
    "\n",
    "        # Get model outputs for the current input\n",
    "        with torch.no_grad():\n",
    "            outputs = model(input_ids=input_ids)\n",
    "\n",
    "        # Get logits for the last token (next word prediction)\n",
    "        last_token_logits = outputs.logits[0, -1, :]  # Shape: (vocab_size,)\n",
    "\n",
    "        # Calculate probabilities\n",
    "        probs = F.softmax(last_token_logits, dim=-1)\n",
    "\n",
    "        # Get the top 3 predictions and their probabilities\n",
    "        top_k = 3\n",
    "        top_k_probs, top_k_indices = torch.topk(probs, top_k)\n",
    "        top_k_tokens = [tokenizer.decode([idx]) for idx in top_k_indices]\n",
    "\n",
    "        # The actual next token\n",
    "        actual_next_token_id = tokenizer.convert_tokens_to_ids(tokens[i+1])\n",
    "        actual_next_token_prob = probs[actual_next_token_id].item()\n",
    "        actual_next_token = tokenizer.decode([actual_next_token_id])\n",
    "\n",
    "        # Print current token and predictions\n",
    "        current_token = tokens[i]\n",
    "        print(f\"Step {i+1} (current token: '{current_token}')\")\n",
    "        print(\"Next word predictions:\")\n",
    "        for j in range(top_k):\n",
    "            print(f\"  {j+1}: '{top_k_tokens[j]}' with probability {top_k_probs[j].item():.4f}\")\n",
    "        \n",
    "        print(f\"Actual next word: '{actual_next_token}' with probability {actual_next_token_prob:.4f}\\n\")\n",
    "    return outputs\n",
    "# Example usage\n",
    "text = \"The quick brown fox jumps over the lazy dog and the fat frog. \"\n",
    "outputs = get_sequential_predictions_with_actual_prob(text)\n"
   ]
  },
  {
   "cell_type": "code",
   "execution_count": 66,
   "metadata": {},
   "outputs": [],
   "source": [
    "from transformers import AutoTokenizer, AutoModelForCausalLM\n",
    "import torch\n",
    "import torch.nn.functional as F\n",
    "\n",
    "def get_sequential_predictions_stats(text, max_tokens = 512, model_name=\"distilgpt2\"):\n",
    "    # Load model and tokenizer\n",
    "    tokenizer = AutoTokenizer.from_pretrained(model_name)\n",
    "    model = AutoModelForCausalLM.from_pretrained(model_name)\n",
    "    \n",
    "    # Initial tokenization of the input text\n",
    "    tokens = tokenizer.tokenize(text)\n",
    "    \n",
    "    if max_tokens is not None:\n",
    "        tokens = tokens[:max_tokens]\n",
    "    \n",
    "    #print(f\"Initial text: '{text}'\\n\")\n",
    "    \n",
    "    results = []\n",
    "    # Step through each token in the initial text (except the last token since it has no \"next\" token)\n",
    "    for i in range(len(tokens) - 1):\n",
    "        # Reconstruct the sequence up to the current token\n",
    "        partial_text = tokenizer.convert_tokens_to_string(tokens[:i+1])\n",
    "        input_ids = tokenizer(partial_text, return_tensors=\"pt\")[\"input_ids\"]\n",
    "\n",
    "        # Get model outputs for the current input\n",
    "        with torch.no_grad():\n",
    "            outputs = model(input_ids=input_ids)\n",
    "\n",
    "        # Get logits for the last token (next word prediction)\n",
    "        last_token_logits = outputs.logits[0, -1, :]  # Shape: (vocab_size,)\n",
    "\n",
    "        # Calculate mean and std of logits\n",
    "        logit_mean = last_token_logits.mean().item()\n",
    "        logit_std = last_token_logits.std().item()\n",
    "\n",
    "        # Calculate probabilities\n",
    "        probs = F.softmax(last_token_logits, dim=-1)\n",
    "\n",
    "        # Calculate mean and std of probabilities\n",
    "        prob_mean = probs.mean().item()\n",
    "        prob_std = probs.std().item()\n",
    "        \n",
    "        # Calculate log probabilities\n",
    "        log_probs = torch.log(probs + 1e-9)  # Adding a small value to avoid log(0)\n",
    "        \n",
    "        # Calculate mean and std of log probabilities\n",
    "        log_prob_mean = log_probs.mean().item()\n",
    "        log_prob_std = log_probs.std().item()\n",
    "\n",
    "        # The actual next token\n",
    "        actual_next_token = tokens[i+1]\n",
    "        actual_next_token_id = tokenizer.convert_tokens_to_ids(tokens[i+1])\n",
    "        actual_next_token_logit = last_token_logits[actual_next_token_id].item()\n",
    "        actual_next_token_prob = probs[actual_next_token_id].item()\n",
    "        \n",
    "        # Print statistics and predictions\n",
    "        current_token = tokens[i]\n",
    "\n",
    "        results.append([i, current_token, actual_next_token, \\\n",
    "                        logit_mean, logit_std, \\\n",
    "                        prob_mean, prob_std, log_prob_mean, log_prob_std, \\\n",
    "                        actual_next_token_logit, actual_next_token_prob])\n",
    "    return results\n",
    "\n",
    "# Example usage\n",
    "text = \"The quick brown fox\"\n",
    "results = get_sequential_predictions_stats(text)\n"
   ]
  },
  {
   "cell_type": "markdown",
   "metadata": {},
   "source": [
    "## visualization of trivial example of logit and proability of each word in the sentence."
   ]
  },
  {
   "cell_type": "code",
   "execution_count": 28,
   "metadata": {},
   "outputs": [
    {
     "name": "stdout",
     "output_type": "stream",
     "text": [
      "(14, 50257)\n"
     ]
    }
   ],
   "source": [
    "\n",
    "def logits_to_probabilities(logits):\n",
    "    # Remove the batch dimension (shape [1, 14, 50257] to [14, 50257])\n",
    "    logits = logits.squeeze(0)\n",
    "    \n",
    "    # Apply softmax to convert logits to probabilities along the last dimension\n",
    "    probabilities = F.softmax(logits, dim=-1)\n",
    "    \n",
    "    # Convert to numpy array\n",
    "    probabilities_np = probabilities.cpu().numpy()\n",
    "    return probabilities_np\n",
    "\n",
    "# Example usage\n",
    "probabilities = logits_to_probabilities(outputs.logits)\n",
    "print(probabilities.shape)  "
   ]
  },
  {
   "cell_type": "code",
   "execution_count": null,
   "metadata": {},
   "outputs": [],
   "source": []
  },
  {
   "cell_type": "code",
   "execution_count": null,
   "metadata": {},
   "outputs": [
    {
     "data": {
      "image/png": "[encoded data removed]",
      "text/plain": [
       "<Figure size 1200x600 with 1 Axes>"
      ]
     },
     "metadata": {},
     "output_type": "display_data"
    }
   ],
   "source": [
    "import numpy as np\n",
    "import matplotlib.pyplot as plt\n",
    "import seaborn as sns\n",
    "\n",
    "# plot raw logit -- see if there's any clue before normalization\n",
    "rawlogits = outputs.logits.squeeze(0).cpu().numpy()\n",
    "#palette for plotting\n",
    "palette = sns.color_palette(\"Set1\") + sns.color_palette(\"Set2\") + sns.color_palette(\"Set3\")\n",
    "\n",
    "# Generate logarithmic bins from 10^-6 to 0.1\n",
    "bins = np.logspace(-16, -1, 50)  # 50 bins from 10^0 to 10^3\n",
    "\n",
    "# Plot the distributions\n",
    "plt.figure(figsize=(12, 6))\n",
    "for i in range(rawlogits.shape[0]):\n",
    "    plt.hist(rawlogits[i], label=f'Token {i+1}', bins= np.linspace(-100, 0, 51), color = palette[i], alpha=0.9)\n",
    "\n",
    "plt.xlabel('Vocabulary Index')\n",
    "plt.ylabel('Raw Logits')\n",
    "plt.title('Probability Distributions of 14 Tokens')\n",
    "plt.legend(loc='upper right', fontsize='small', labels = text.split())\n",
    "plt.show()"
   ]
  },
  {
   "cell_type": "code",
   "execution_count": 58,
   "metadata": {},
   "outputs": [
    {
     "data": {
      "image/png": "[encoded data removed]",
      "text/plain": [
       "<Figure size 1200x600 with 1 Axes>"
      ]
     },
     "metadata": {},
     "output_type": "display_data"
    }
   ],
   "source": [
    "import numpy as np\n",
    "import matplotlib.pyplot as plt\n",
    "\n",
    "# Generate logarithmic bins from 10^-6 to 0.1\n",
    "bins = np.logspace(-16, -1, 50)  # 50 bins from 10^0 to 10^3\n",
    "\n",
    "# Plot the distributions\n",
    "plt.figure(figsize=(12, 6))\n",
    "for i in range(probabilities.shape[0]):\n",
    "    plt.hist(probabilities[i], label=f'Token {i+1}', bins= bins, color = palette[i],alpha=0.8)\n",
    "\n",
    "plt.xlabel('Vocabulary Index')\n",
    "plt.ylabel('Log Probability')\n",
    "plt.xscale('log')  # Set x-axis to log scale\n",
    "plt.title('Log Probability Distributions of 14 Tokens')\n",
    "plt.legend(loc='upper right', fontsize='small', labels = text.split())\n",
    "plt.show()"
   ]
  },
  {
   "cell_type": "code",
   "execution_count": null,
   "metadata": {},
   "outputs": [],
   "source": []
  }
 ],
 "metadata": {
  "kernelspec": {
   "display_name": "langchain2024",
   "language": "python",
   "name": "python3"
  },
  "language_info": {
   "codemirror_mode": {
    "name": "ipython",
    "version": 3
   },
   "file_extension": ".py",
   "mimetype": "text/x-python",
   "name": "python",
   "nbconvert_exporter": "python",
   "pygments_lexer": "ipython3",
   "version": "3.11.9"
  }
 },
 "nbformat": 4,
 "nbformat_minor": 2
}
